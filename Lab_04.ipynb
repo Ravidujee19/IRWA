{
  "nbformat": 4,
  "nbformat_minor": 0,
  "metadata": {
    "colab": {
      "provenance": []
    },
    "kernelspec": {
      "name": "python3",
      "display_name": "Python 3"
    },
    "language_info": {
      "name": "python"
    }
  },
  "cells": [
    {
      "cell_type": "markdown",
      "source": [
        "***K-grams***\n",
        "\n",
        "A sequence of k consecutive items in a text or data sequence, such as words or letters, used in fields like natural language processing (NLP) for tasks like spelling correction and language modeling"
      ],
      "metadata": {
        "id": "9ziEJY6_Rkr8"
      }
    },
    {
      "cell_type": "code",
      "source": [
        "import nltk\n",
        "from nltk.util import ngrams"
      ],
      "metadata": {
        "id": "fTRvacKKh083"
      },
      "execution_count": 1,
      "outputs": []
    },
    {
      "cell_type": "code",
      "source": [
        "d3 = \"I do not like to  eat \""
      ],
      "metadata": {
        "id": "RAldOhJ6UQpz"
      },
      "execution_count": 2,
      "outputs": []
    },
    {
      "cell_type": "code",
      "source": [
        "# Step 1: Clean string and replace spaces with '$'\n",
        "d3New = \"$\" + d3.strip().replace(\" \", \"$\") + \"$\"\n",
        "\n",
        "# Step 2: Character-level bigrams (k=2)\n",
        "kgrams1 = ngrams(d3New, 2)\n",
        "kgramArray = [\"\".join(kGramTuple) for kGramTuple in kgrams1]\n",
        "\n",
        "print(\"Character-level bigrams:\")\n",
        "print(kgramArray)\n",
        "\n",
        "# Step 3: Word-level bigrams (k=2)\n",
        "d3Ngram = d3.split()  # split sentence into words\n",
        "nGramArray = ngrams(d3Ngram, 2)\n",
        "\n",
        "print(\"\\nWord-level bigrams:\")\n",
        "for n in nGramArray:\n",
        "    print(n)\n"
      ],
      "metadata": {
        "colab": {
          "base_uri": "https://localhost:8080/"
        },
        "id": "cMT8osrqhtnn",
        "outputId": "49c8b754-793d-43dd-81fd-5d99b6463895"
      },
      "execution_count": 3,
      "outputs": [
        {
          "output_type": "stream",
          "name": "stdout",
          "text": [
            "Character-level bigrams:\n",
            "['$I', 'I$', '$d', 'do', 'o$', '$n', 'no', 'ot', 't$', '$l', 'li', 'ik', 'ke', 'e$', '$t', 'to', 'o$', '$$', '$e', 'ea', 'at', 't$']\n",
            "\n",
            "Word-level bigrams:\n",
            "('I', 'do')\n",
            "('do', 'not')\n",
            "('not', 'like')\n",
            "('like', 'to')\n",
            "('to', 'eat')\n"
          ]
        }
      ]
    },
    {
      "cell_type": "code",
      "source": [
        "d1 = \"I am Sam\"\n",
        "d2 = \"sam I am\"\n",
        "\n",
        "d1new = d1.lower()\n",
        "d2new = d2.lower()\n",
        "# split the sentence into words and create a list\n",
        "# convert the list into a set (this removes duplicates)\n",
        "# find the number of elements from a intersection b\n",
        "# find the number of elements from a union b\n",
        "# this division of these values gives Jaccard's coefficient\n",
        "d1Set = set(d1new.split())\n",
        "d2Set = set(d2new.split())\n",
        "\n",
        "j = len(d1Set.intersection(d2Set))/len(d1Set.union(d2Set))\n",
        "j"
      ],
      "metadata": {
        "colab": {
          "base_uri": "https://localhost:8080/"
        },
        "id": "TvTDwEa_XUJ8",
        "outputId": "733e1bad-21fa-4bbf-d063-9e8a42472b69"
      },
      "execution_count": 4,
      "outputs": [
        {
          "output_type": "execute_result",
          "data": {
            "text/plain": [
              "1.0"
            ]
          },
          "metadata": {},
          "execution_count": 4
        }
      ]
    },
    {
      "cell_type": "markdown",
      "source": [
        "The Levenshtein algorithm, also known as edit distance, is a string metric used to measure the difference between two sequences of characters (strings).\n"
      ],
      "metadata": {
        "id": "E7FgLYpgdFMi"
      }
    },
    {
      "cell_type": "markdown",
      "source": [
        " It quantifies this difference by calculating the minimum number of single-character edits required to transform one string into the other.\n",
        " These single-character edits can be:\n",
        "\n",
        "*   Insertions: Adding a character.\n",
        "*   Deletions: Removing a character.\n",
        "*   Substitutions (or replacements): Changing one character into another.\n",
        "\n",
        "\n",
        "\n",
        "\n"
      ],
      "metadata": {
        "id": "4OjMHYrqdOoK"
      }
    },
    {
      "cell_type": "markdown",
      "source": [
        "The algorithm typically assigns a cost of 1 to each of these operations. The Levenshtein distance between two words is the total minimum cost of these operations needed for the transformation."
      ],
      "metadata": {
        "id": "_VN8mvhUdTSw"
      }
    },
    {
      "cell_type": "code",
      "source": [
        "pip install python-Levenshtein"
      ],
      "metadata": {
        "colab": {
          "base_uri": "https://localhost:8080/"
        },
        "id": "CEvKUAWXcLb3",
        "outputId": "427fd025-90c3-4fb3-8343-78d3f5f180be"
      },
      "execution_count": 5,
      "outputs": [
        {
          "output_type": "stream",
          "name": "stdout",
          "text": [
            "Collecting python-Levenshtein\n",
            "  Downloading python_levenshtein-0.27.1-py3-none-any.whl.metadata (3.7 kB)\n",
            "Collecting Levenshtein==0.27.1 (from python-Levenshtein)\n",
            "  Downloading levenshtein-0.27.1-cp312-cp312-manylinux_2_17_x86_64.manylinux2014_x86_64.whl.metadata (3.6 kB)\n",
            "Collecting rapidfuzz<4.0.0,>=3.9.0 (from Levenshtein==0.27.1->python-Levenshtein)\n",
            "  Downloading rapidfuzz-3.13.0-cp312-cp312-manylinux_2_17_x86_64.manylinux2014_x86_64.whl.metadata (12 kB)\n",
            "Downloading python_levenshtein-0.27.1-py3-none-any.whl (9.4 kB)\n",
            "Downloading levenshtein-0.27.1-cp312-cp312-manylinux_2_17_x86_64.manylinux2014_x86_64.whl (159 kB)\n",
            "\u001b[2K   \u001b[90m━━━━━━━━━━━━━━━━━━━━━━━━━━━━━━━━━━━━━━━━\u001b[0m \u001b[32m159.9/159.9 kB\u001b[0m \u001b[31m4.0 MB/s\u001b[0m eta \u001b[36m0:00:00\u001b[0m\n",
            "\u001b[?25hDownloading rapidfuzz-3.13.0-cp312-cp312-manylinux_2_17_x86_64.manylinux2014_x86_64.whl (3.1 MB)\n",
            "\u001b[2K   \u001b[90m━━━━━━━━━━━━━━━━━━━━━━━━━━━━━━━━━━━━━━━━\u001b[0m \u001b[32m3.1/3.1 MB\u001b[0m \u001b[31m38.9 MB/s\u001b[0m eta \u001b[36m0:00:00\u001b[0m\n",
            "\u001b[?25hInstalling collected packages: rapidfuzz, Levenshtein, python-Levenshtein\n",
            "Successfully installed Levenshtein-0.27.1 python-Levenshtein-0.27.1 rapidfuzz-3.13.0\n"
          ]
        }
      ]
    },
    {
      "cell_type": "code",
      "source": [
        "from Levenshtein import distance\n",
        "# from nltk.metrics.distance import edit_distance\n",
        "\n",
        "d1 = \"sitting\"\n",
        "d2 = \"kicking\"\n",
        "\n",
        "distance(d1, d2)"
      ],
      "metadata": {
        "colab": {
          "base_uri": "https://localhost:8080/"
        },
        "id": "j8h0TnUqbYth",
        "outputId": "7e07e235-5a67-4cef-a053-e1c51f23f7ef"
      },
      "execution_count": 6,
      "outputs": [
        {
          "output_type": "execute_result",
          "data": {
            "text/plain": [
              "3"
            ]
          },
          "metadata": {},
          "execution_count": 6
        }
      ]
    },
    {
      "cell_type": "markdown",
      "source": [
        "The Soundex algorithm is a phonetic algorithm designed to index names by sound, rather than by spelling, primarily for English names. Its goal is to encode homophones (words that sound the same but are spelled differently) to the same representation, enabling matching despite minor spelling variations."
      ],
      "metadata": {
        "id": "YwJoE2jWeskV"
      }
    },
    {
      "cell_type": "markdown",
      "source": [
        "\n",
        "The algorithm generates a four-character code:\n",
        "Retain the first letter: of the name.\n",
        "Map remaining consonants to digits: based on their phonetic similarity:\n",
        "\n",
        "*   1: B, F, P, V\n",
        "*   2: C, G, J, K, Q, S, X, Z\n",
        "*   3: D, T\n",
        "*   4: L\n",
        "*   5: M, N\n",
        "*   6: R\n",
        "\n",
        "\n",
        "Remove vowels (A, E, I, O, U, Y) and the letters H and W: from the mapped digits.\n",
        "\n",
        "Remove consecutive duplicate digits: (digits that are the same and appear next to each other).\n",
        "\n",
        "Truncate or pad with zeros: to achieve a four-character code. If the code is longer than three digits after the initial letter, truncate it. If it's shorter, pad with zeros to reach three digits."
      ],
      "metadata": {
        "id": "fHEgF3GMe2i8"
      }
    },
    {
      "cell_type": "code",
      "source": [
        "def soundex(word: str) -> str:\n",
        "    \"\"\"\n",
        "    Soundex implementation (slide version):\n",
        "    1) Retain first letter (uppercase).\n",
        "    2) Change A,E,I,O,U,H,W,Y -> '0'\n",
        "    3) Map letters to digits:\n",
        "       B,F,P,V -> 1\n",
        "       C,G,J,K,Q,S,X,Z -> 2\n",
        "       D,T -> 3\n",
        "       L -> 4\n",
        "       M,N -> 5\n",
        "       R -> 6\n",
        "    4) Remove pairs of consecutive duplicate digits.\n",
        "    5) Remove all zeros.\n",
        "    6) Pad with trailing zeros and return first four characters: LDDD\n",
        "    \"\"\"\n",
        "    if not word:\n",
        "        return \"0000\"\n",
        "\n",
        "    w = word.strip()\n",
        "    if not w:\n",
        "        return \"0000\"\n",
        "\n",
        "    first = w[0].upper()\n",
        "\n",
        "    groups = {\n",
        "        'B': '1', 'F': '1', 'P': '1', 'V': '1',\n",
        "        'C': '2', 'G': '2', 'J': '2', 'K': '2',\n",
        "        'Q': '2', 'S': '2', 'X': '2', 'Z': '2',\n",
        "        'D': '3', 'T': '3',\n",
        "        'L': '4',\n",
        "        'M': '5', 'N': '5',\n",
        "        'R': '6'\n",
        "    }\n",
        "    zeros = set(\"AEIOUHWY\")\n",
        "\n",
        "    # Step 2 & 3: map to digits or '0' (skip the first letter)\n",
        "    encoded = []\n",
        "    for ch in w[1:].upper():\n",
        "        if ch in zeros:\n",
        "            encoded.append('0')\n",
        "        else:\n",
        "            encoded.append(groups.get(ch, ''))  # non-letters map to ''\n",
        "\n",
        "    # Step 4: remove consecutive duplicate digits (including '0' duplicates)\n",
        "    dedup = []\n",
        "    last = None\n",
        "    for d in encoded:\n",
        "        if d == '':              # ignore characters outside A-Z\n",
        "            continue\n",
        "        if d != last:\n",
        "            dedup.append(d)\n",
        "        last = d\n",
        "\n",
        "    # Step 5: remove zeros\n",
        "    dedup_no_zeros = [d for d in dedup if d != '0']\n",
        "\n",
        "    # Compose and pad (Step 6)\n",
        "    code = first + \"\".join(dedup_no_zeros)\n",
        "    return (code + \"0000\")[:4]\n"
      ],
      "metadata": {
        "id": "-cqzOtv7feB_"
      },
      "execution_count": 7,
      "outputs": []
    },
    {
      "cell_type": "code",
      "source": [
        "print(soundex(\"Thenura\"))\n",
        "print(soundex(\"Ravidu\"))"
      ],
      "metadata": {
        "colab": {
          "base_uri": "https://localhost:8080/"
        },
        "id": "TqqtVrA9ghDR",
        "outputId": "a5226ec2-08e7-4495-bb75-f09f37f69447"
      },
      "execution_count": 8,
      "outputs": [
        {
          "output_type": "stream",
          "name": "stdout",
          "text": [
            "T560\n",
            "R130\n"
          ]
        }
      ]
    },
    {
      "cell_type": "markdown",
      "source": [
        "<!-- retriving a value from a dictionary using the key -->\n",
        "<!-- adding values to an array of element -->\n",
        "<!-- iterating through elements in an list -->\n",
        "<!-- removing zeros from a  string using list comprehension -->\n",
        "<!-- list to join string -->"
      ],
      "metadata": {
        "id": "r0Adw7F3jfvw"
      }
    }
  ]
}