{
  "nbformat": 4,
  "nbformat_minor": 0,
  "metadata": {
    "colab": {
      "provenance": []
    },
    "kernelspec": {
      "name": "python3",
      "display_name": "Python 3"
    },
    "language_info": {
      "name": "python"
    }
  },
  "cells": [
    {
      "cell_type": "markdown",
      "source": [
        "Lists: teams and captains.\n",
        "Goal: Match each team with its respective captain.\n",
        "\n",
        "Method: Use zip() to pair elements by index and convert to list/dictionary.\n",
        "\n",
        "\n",
        "*The zip() function in Python is used to combine multiple iterables (like lists or tuples) element-wise into pairs (or tuples of multiple elements).*"
      ],
      "metadata": {
        "id": "unv94OVz-hjR"
      }
    },
    {
      "cell_type": "code",
      "execution_count": 1,
      "metadata": {
        "colab": {
          "base_uri": "https://localhost:8080/"
        },
        "id": "In24eK_Q85qV",
        "outputId": "4400a192-f222-407a-f58c-7c872950f7ba"
      },
      "outputs": [
        {
          "output_type": "stream",
          "name": "stdout",
          "text": [
            "[('India', 'Kohli'), ('England', 'Root'), ('NZ', 'Williaamson'), ('Aus', 'Smith')]\n",
            "{'India': 'Kohli', 'England': 'Root', 'NZ': 'Williaamson', 'Aus': 'Smith'}\n"
          ]
        }
      ],
      "source": [
        "teams = [\"India\", \"England\", \"NZ\", \"Aus\"]\n",
        "captains = [\"Kohli\", \"Root\", \"Williaamson\", \"Smith\"]\n",
        "print(list(zip(teams, captains)))\n",
        "print(dict(zip(teams, captains)))"
      ]
    },
    {
      "cell_type": "markdown",
      "source": [
        "Lists: books, prices, quantities.\n",
        "\n",
        "Goal: Multiply price × quantity for each book.\n",
        "\n",
        "Method: Use zip() in a loop to calculate totals.\n"
      ],
      "metadata": {
        "id": "CSdrpiD3o5kd"
      }
    },
    {
      "cell_type": "code",
      "source": [
        "books = [\"textbooks\", \"exercise books\", \"story book\", \"drawing books\"]\n",
        "prices = [100, 60, 90, 70]\n",
        "quantities = [3, 2, 1, 4]\n",
        "for book, price, quantity in zip(books, prices, quantities):\n",
        "  total = price * quantity\n",
        "  print(f\"You bought {quantity} {book} for ${total}\")"
      ],
      "metadata": {
        "colab": {
          "base_uri": "https://localhost:8080/"
        },
        "id": "R4bMAg-s880t",
        "outputId": "58130dcd-03f5-4205-f5d2-b2eaba3b0fd8"
      },
      "execution_count": 2,
      "outputs": [
        {
          "output_type": "stream",
          "name": "stdout",
          "text": [
            "You bought 3 textbooks for $300\n",
            "You bought 2 exercise books for $120\n",
            "You bought 1 story book for $90\n",
            "You bought 4 drawing books for $280\n"
          ]
        }
      ]
    },
    {
      "cell_type": "markdown",
      "source": [
        "List: [2, 4, 6, 8, 10]\n",
        "\n",
        "Goal: Add 10 to each value.\n",
        "\n",
        "Method: Use list comprehension."
      ],
      "metadata": {
        "id": "W-_TEQXipVlZ"
      }
    },
    {
      "cell_type": "code",
      "source": [
        "list = [2, 4, 6, 8, 10]\n",
        "result = [x + 10 for x in list]\n",
        "print(result)"
      ],
      "metadata": {
        "colab": {
          "base_uri": "https://localhost:8080/"
        },
        "id": "onrM8z2Z89HS",
        "outputId": "33ff1233-60f2-4fe7-c0d8-7256e46a12e9"
      },
      "execution_count": 3,
      "outputs": [
        {
          "output_type": "stream",
          "name": "stdout",
          "text": [
            "[12, 14, 16, 18, 20]\n"
          ]
        }
      ]
    },
    {
      "cell_type": "markdown",
      "source": [
        "Lists: list1, list2\n",
        "\n",
        "Goal: Iterate one normally, other in reverse.\n",
        "\n",
        "Method: zip(list1, reversed(list2)).\n"
      ],
      "metadata": {
        "id": "RQ8BV6rEpcyq"
      }
    },
    {
      "cell_type": "code",
      "source": [
        "list1 = [10, 20, 30, 40]\n",
        "list2 = [\"Apples\", \"Mangoes\", \"Oranges\", \"Grapes\"]\n",
        "for a, b in zip(list1, reversed(list2)):\n",
        "  print(a, b)"
      ],
      "metadata": {
        "colab": {
          "base_uri": "https://localhost:8080/"
        },
        "id": "FZ0O6GEH89Jq",
        "outputId": "7bba8539-c1f3-4141-8618-72af6d5be704"
      },
      "execution_count": 4,
      "outputs": [
        {
          "output_type": "stream",
          "name": "stdout",
          "text": [
            "10 Grapes\n",
            "20 Oranges\n",
            "30 Mangoes\n",
            "40 Apples\n"
          ]
        }
      ]
    },
    {
      "cell_type": "markdown",
      "source": [
        "List: Deep nested list with [\"f\", \"g\"]\n",
        "\n",
        "Goal: Add [\"h\", \"i\", \"j\"] to [\"f\", \"g\"]\n",
        "\n",
        "Method: Use deep indexing and .extend()"
      ],
      "metadata": {
        "id": "BXXBVINAqG2f"
      }
    },
    {
      "cell_type": "code",
      "source": [
        "list1 = [\"a\", \"b\", [\"c\", [\"d\", \"e\", [\"f\", \"g\"], \"k\"], \"l\"], \"m\", \"n\"]\n",
        "sub_list = [\"h\", \"i\", \"j\"]\n",
        "list1[2][1][2].extend(sub_list)\n",
        "print(list1)"
      ],
      "metadata": {
        "colab": {
          "base_uri": "https://localhost:8080/"
        },
        "id": "3qB5HTtg89MR",
        "outputId": "be86ed1d-a124-4dcf-9830-1e9d212fc4aa"
      },
      "execution_count": 5,
      "outputs": [
        {
          "output_type": "stream",
          "name": "stdout",
          "text": [
            "['a', 'b', ['c', ['d', 'e', ['f', 'g', 'h', 'i', 'j'], 'k'], 'l'], 'm', 'n']\n"
          ]
        }
      ]
    },
    {
      "cell_type": "markdown",
      "source": [
        "List: [10, 15, 20, 15, 32, 54, 15]\n",
        "\n",
        "Goal: Delete all 15s\n",
        "\n",
        "Method: List comprehension with condition"
      ],
      "metadata": {
        "id": "aU6N9gJKqQst"
      }
    },
    {
      "cell_type": "code",
      "source": [
        "list1 = [10, 15, 20, 15, 32, 54, 15]\n",
        "result = [x for x in list1 if x != 15]\n",
        "print(result)"
      ],
      "metadata": {
        "colab": {
          "base_uri": "https://localhost:8080/"
        },
        "id": "yVTgzSj-89O6",
        "outputId": "6d2e4488-56e6-443c-da3d-855b9b0fcb1c"
      },
      "execution_count": 6,
      "outputs": [
        {
          "output_type": "stream",
          "name": "stdout",
          "text": [
            "[10, 20, 32, 54]\n"
          ]
        }
      ]
    },
    {
      "cell_type": "markdown",
      "source": [
        "Dicts: dict_1, dict_2\n",
        "\n",
        "Goal: Combine into one\n",
        "\n",
        "Method: Use .update()\n",
        "\n",
        "Note: Values for duplicate keys will be overwritten"
      ],
      "metadata": {
        "id": "9zCkgKbwqbT8"
      }
    },
    {
      "cell_type": "code",
      "source": [
        "dict_1 = {'John': 15, 'Rick': 10, 'Misa': 12}\n",
        "dict_2 = {'Bonnie': 18, 'Rick': 20, 'Matt': 16}\n",
        "dict_1.update(dict_2)\n",
        "print(dict_1)"
      ],
      "metadata": {
        "colab": {
          "base_uri": "https://localhost:8080/"
        },
        "id": "coKMI2149HMF",
        "outputId": "ea87ac1d-2704-439f-e023-d6c2732eea25"
      },
      "execution_count": 7,
      "outputs": [
        {
          "output_type": "stream",
          "name": "stdout",
          "text": [
            "{'John': 15, 'Rick': 20, 'Misa': 12, 'Bonnie': 18, 'Matt': 16}\n"
          ]
        }
      ]
    },
    {
      "cell_type": "markdown",
      "source": [
        "Dict: {0: 0, 1: 1, ...}\n",
        "\n",
        "Goal: Change key 0 to 4\n",
        "\n",
        "Method: d[4] = d.pop(0)"
      ],
      "metadata": {
        "id": "TYXyANYAqgPj"
      }
    },
    {
      "cell_type": "code",
      "source": [
        "d = {0: 0, 1: 1, 2: 2, 3: 3}\n",
        "d[4] = d.pop(0)\n",
        "print(d)"
      ],
      "metadata": {
        "colab": {
          "base_uri": "https://localhost:8080/"
        },
        "id": "lpqRLwCI9HO9",
        "outputId": "6e1e7ef4-dbba-42bb-e2a0-40b4d5c718f7"
      },
      "execution_count": 8,
      "outputs": [
        {
          "output_type": "stream",
          "name": "stdout",
          "text": [
            "{1: 1, 2: 2, 3: 3, 4: 0}\n"
          ]
        }
      ]
    },
    {
      "cell_type": "markdown",
      "source": [
        "Lists: country, capital\n",
        "\n",
        "Goal: Create key-value pairs\n",
        "\n",
        "Method: dict(zip(country, capital))."
      ],
      "metadata": {
        "id": "zOmLq28AqlCF"
      }
    },
    {
      "cell_type": "code",
      "source": [
        "country = [\"USA\", \"France\", \"India\"]\n",
        "capital = [\"Washington D.C.\", \"Paris\", \"New Delhi\"]\n",
        "result = dict(zip(country, capital))\n",
        "print(result)"
      ],
      "metadata": {
        "colab": {
          "base_uri": "https://localhost:8080/"
        },
        "id": "1jJI1Vn39HRW",
        "outputId": "2f0c28d8-6499-46a1-81b4-b959bf3cf1ed"
      },
      "execution_count": 9,
      "outputs": [
        {
          "output_type": "stream",
          "name": "stdout",
          "text": [
            "{'USA': 'Washington D.C.', 'France': 'Paris', 'India': 'New Delhi'}\n"
          ]
        }
      ]
    },
    {
      "cell_type": "markdown",
      "source": [
        "Dict: Contains multiple items\n",
        "\n",
        "Goal: Remove \"Book\", \"Crystal\"\n",
        "\n",
        "Method: Loop with .pop(key, None)"
      ],
      "metadata": {
        "id": "lpNKtp4Fv5UZ"
      }
    },
    {
      "cell_type": "code",
      "source": [
        "My_dict = {\n",
        "\"Fruit\": \"Pear\",\n",
        "\"Vegetable\": \"Carrot\",\n",
        "\"Pet\": \"Cat\",\n",
        "\"Book\": \"Moby dick\",\n",
        "\"Crystal\": \"Amethyst\"\n",
        "}\n",
        "keysToRemove = [\"Book\", \"Crystal\"]\n",
        "for key in keysToRemove:\n",
        "  My_dict.pop(key, None)\n",
        "  print(My_dict)"
      ],
      "metadata": {
        "colab": {
          "base_uri": "https://localhost:8080/"
        },
        "id": "7o74Ytgb89SU",
        "outputId": "54bc3b05-4533-410d-9076-93e5c2e6558e"
      },
      "execution_count": 10,
      "outputs": [
        {
          "output_type": "stream",
          "name": "stdout",
          "text": [
            "{'Fruit': 'Pear', 'Vegetable': 'Carrot', 'Pet': 'Cat', 'Crystal': 'Amethyst'}\n",
            "{'Fruit': 'Pear', 'Vegetable': 'Carrot', 'Pet': 'Cat'}\n"
          ]
        }
      ]
    },
    {
      "cell_type": "markdown",
      "source": [
        "Dict: sub_dict\n",
        "\n",
        "Goal: Extract subset using specific keys\n",
        "\n",
        "Method: Dictionary comprehension"
      ],
      "metadata": {
        "id": "2q4NqDYhqzsA"
      }
    },
    {
      "cell_type": "code",
      "source": [
        "sub_dict = {'math': 100, 'chem': 98, 'sci': 100, 'eng': 100}\n",
        "key_to_extract = {'math', 'chem', 'sci'}\n",
        "result = {k: sub_dict[k] for k in key_to_extract}\n",
        "print(result)"
      ],
      "metadata": {
        "colab": {
          "base_uri": "https://localhost:8080/"
        },
        "id": "BSd-DSk79P18",
        "outputId": "aa2cc1c5-40b2-49fc-f055-09d2a5016eeb"
      },
      "execution_count": 11,
      "outputs": [
        {
          "output_type": "stream",
          "name": "stdout",
          "text": [
            "{'math': 100, 'chem': 98, 'sci': 100}\n"
          ]
        }
      ]
    },
    {
      "cell_type": "markdown",
      "source": [
        "List: A mix of numbers\n",
        "\n",
        "Goal: Filter only those divisible by 5\n",
        "\n",
        "Method: Use condition x % 5 == 0."
      ],
      "metadata": {
        "id": "jzGTXkqVvqM5"
      }
    },
    {
      "cell_type": "code",
      "source": [
        "list1 = [12, 15, 32, 42, 55, 75, 122, 132, 150, 180, 200]\n",
        "result = [x for x in list1 if x % 5 == 0]\n",
        "print(result)"
      ],
      "metadata": {
        "colab": {
          "base_uri": "https://localhost:8080/"
        },
        "id": "1M_NAv5j9P4m",
        "outputId": "c226723e-eb05-44ef-89c0-9f80ca35d99d"
      },
      "execution_count": 12,
      "outputs": [
        {
          "output_type": "stream",
          "name": "stdout",
          "text": [
            "[15, 55, 75, 150, 180, 200]\n"
          ]
        }
      ]
    },
    {
      "cell_type": "markdown",
      "source": [
        "Conditions:\n",
        "\n",
        "    Divisible by 5 → print.\n",
        "\n",
        "    Skip if >150 → continue.\n",
        "    \n",
        "    Stop if >500 → break."
      ],
      "metadata": {
        "id": "Ed9Gj4CYvh2z"
      }
    },
    {
      "cell_type": "code",
      "source": [
        "numbers = [12, 75, 150, 180, 145, 525, 50]\n",
        "\n",
        "for num in numbers:\n",
        "    if num > 500:\n",
        "        break\n",
        "    if num > 150:\n",
        "        continue\n",
        "    if num % 5 == 0:\n",
        "        print(num)"
      ],
      "metadata": {
        "colab": {
          "base_uri": "https://localhost:8080/"
        },
        "id": "vpdYIfC39Tap",
        "outputId": "d57d51f3-1ccf-433c-d57b-abc9e41f4326"
      },
      "execution_count": 13,
      "outputs": [
        {
          "output_type": "stream",
          "name": "stdout",
          "text": [
            "75\n",
            "150\n",
            "145\n"
          ]
        }
      ]
    },
    {
      "cell_type": "markdown",
      "source": [
        "Input: \"@W3Resource.Com\"\n",
        "\n",
        "Goal: Count upper, lower, digits, special.\n",
        "\n",
        "Method: Use .isupper(), .islower(), .isdigit(), else → special."
      ],
      "metadata": {
        "id": "CpHxYZ54vcdT"
      }
    },
    {
      "cell_type": "code",
      "source": [
        "text = \"@W3Resource.Com\"\n",
        "upper = lower = digit = special = 0\n",
        "for ch in text:\n",
        "  if ch.isupper():\n",
        "    upper += 1\n",
        "  elif ch.islower():\n",
        "    lower += 1\n",
        "  elif ch.isdigit():\n",
        "    digit += 1\n",
        "  else:\n",
        "    special += 1\n",
        "print(\"Upper case characters:\", upper)\n",
        "print(\"Lower case characters:\", lower)\n",
        "print(\"Number case:\", digit)\n",
        "print(\"Special case characters:\", special)"
      ],
      "metadata": {
        "colab": {
          "base_uri": "https://localhost:8080/"
        },
        "id": "OLI7WW2b9TdQ",
        "outputId": "f5555963-d691-4df5-d89b-de0fcce77797"
      },
      "execution_count": 14,
      "outputs": [
        {
          "output_type": "stream",
          "name": "stdout",
          "text": [
            "Upper case characters: 3\n",
            "Lower case characters: 9\n",
            "Number case: 1\n",
            "Special case characters: 2\n"
          ]
        }
      ]
    },
    {
      "cell_type": "markdown",
      "source": [
        "n = 5 → Add: 2 + 22 + 222 + 2222 + 22222\n",
        "\n",
        "Method:\n",
        "\n",
        "    Build number as string.\n",
        "\n",
        "    Convert to int, accumulate sum."
      ],
      "metadata": {
        "id": "Gpf2rNB7vPU4"
      }
    },
    {
      "cell_type": "code",
      "source": [
        "n = 5\n",
        "num = ''\n",
        "total = 0\n",
        "for i in range(n):\n",
        "  num += '2'\n",
        "  total += int(num)\n",
        "  print(num, end='+')\n",
        "print(f\"\\nSum of above series is: {total}\")"
      ],
      "metadata": {
        "colab": {
          "base_uri": "https://localhost:8080/"
        },
        "id": "WmJlZON59XLg",
        "outputId": "9eb80b40-347a-4d42-d3b7-beb28dfc1351"
      },
      "execution_count": 15,
      "outputs": [
        {
          "output_type": "stream",
          "name": "stdout",
          "text": [
            "2+22+222+2222+22222+\n",
            "Sum of above series is: 24690\n"
          ]
        }
      ]
    }
  ]
}